{
  "nbformat": 4,
  "nbformat_minor": 0,
  "metadata": {
    "colab": {
      "provenance": [],
      "authorship_tag": "ABX9TyOxHm1kKBelZLelUj5ski2r",
      "include_colab_link": true
    },
    "kernelspec": {
      "name": "python3",
      "display_name": "Python 3"
    },
    "language_info": {
      "name": "python"
    }
  },
  "cells": [
    {
      "cell_type": "markdown",
      "metadata": {
        "id": "view-in-github",
        "colab_type": "text"
      },
      "source": [
        "<a href=\"https://colab.research.google.com/github/Ajay234209/DSA-with-python/blob/main/sum_target_in_array.ipynb\" target=\"_parent\"><img src=\"https://colab.research.google.com/assets/colab-badge.svg\" alt=\"Open In Colab\"/></a>"
      ]
    },
    {
      "cell_type": "code",
      "execution_count": 1,
      "metadata": {
        "colab": {
          "base_uri": "https://localhost:8080/"
        },
        "id": "2fwOQJFcWn0V",
        "outputId": "a6e15f8d-7601-42b6-ebb2-334567d0cb17"
      },
      "outputs": [
        {
          "output_type": "stream",
          "name": "stdout",
          "text": [
            "2 3 5 6 4 7\n",
            "5\n",
            "output 0 1\n"
          ]
        }
      ],
      "source": [
        "'''Given an array of integers arr and an integer target, return indices of the two numbers such that they add up to target.\n",
        "'''\n",
        "\n",
        "arr=list(map(int,input().split()))\n",
        "target=int(input())\n",
        "for i in range(len(arr)):\n",
        "    for j in range(i+1,len(arr)):\n",
        "        if arr[i]+arr[j]==target:\n",
        "            print(\"output\",i,j)"
      ]
    }
  ]
}